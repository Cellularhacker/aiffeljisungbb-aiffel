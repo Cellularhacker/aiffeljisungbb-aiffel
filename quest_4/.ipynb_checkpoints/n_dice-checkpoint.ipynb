{
 "cells": [
  {
   "cell_type": "code",
   "execution_count": 1,
   "id": "8399f777",
   "metadata": {},
   "outputs": [
    {
     "name": "stdout",
     "output_type": "stream",
     "text": [
      "숫자 입력해주세요.. : 3\n",
      "3 면체 주사위 굴린 결과 : 3\n"
     ]
    }
   ],
   "source": [
    "from random import choice\n",
    "\n",
    "class FunnyDice:\n",
    "    def __init__(self, n):\n",
    "        self.numbers = list(range(1, int(n)+1)) # n 각형의 모형 생성\n",
    "        \n",
    "    def throw(self):\n",
    "        self.val = choice(self.numbers) # 굴리는 행위 (리스트에서 랜덤 선택)\n",
    "        \n",
    "        return self.val\n",
    "\n",
    "def get_inputs():\n",
    "    while True:\n",
    "        n = input(\"숫자 입력해주세요.. : \")\n",
    "        \n",
    "        # 숫자 입력 확인\n",
    "        if not n.isdecimal():\n",
    "            print('유효한 입력 값이 아닙니다. 다시 입력해주세요.')\n",
    "            continue\n",
    "            \n",
    "        # 입력 값이 0일 경우\n",
    "        if n == '0':\n",
    "            print('0을 초과하는 숫자를 다시 입력해주세요.')\n",
    "            continue\n",
    "        \n",
    "        break\n",
    "        \n",
    "    return n\n",
    "    \n",
    "def main():\n",
    "    n = get_inputs() \n",
    "    mydice = FunnyDice(n)\n",
    "    result = mydice.throw()\n",
    "    \n",
    "    print(f\"{n} 면체 주사위 굴린 결과 : {result}\")\n",
    "    \n",
    "if __name__ == \"__main__\":\n",
    "    main()\n"
   ]
  },
  {
   "cell_type": "code",
   "execution_count": null,
   "id": "6240f229",
   "metadata": {},
   "outputs": [],
   "source": []
  },
  {
   "cell_type": "code",
   "execution_count": null,
   "id": "d62d1568",
   "metadata": {},
   "outputs": [],
   "source": []
  }
 ],
 "metadata": {
  "kernelspec": {
   "display_name": "Python 3 (ipykernel)",
   "language": "python",
   "name": "python3"
  },
  "language_info": {
   "codemirror_mode": {
    "name": "ipython",
    "version": 3
   },
   "file_extension": ".py",
   "mimetype": "text/x-python",
   "name": "python",
   "nbconvert_exporter": "python",
   "pygments_lexer": "ipython3",
   "version": "3.9.7"
  }
 },
 "nbformat": 4,
 "nbformat_minor": 5
}
